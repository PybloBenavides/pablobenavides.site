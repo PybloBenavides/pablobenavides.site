{
 "cells": [
  {
   "cell_type": "code",
   "execution_count": 1,
   "id": "subject-merit",
   "metadata": {},
   "outputs": [],
   "source": [
    "import sys"
   ]
  },
  {
   "cell_type": "code",
   "execution_count": 2,
   "id": "alternative-orleans",
   "metadata": {},
   "outputs": [],
   "source": [
    "string = \"This is from a notebook\""
   ]
  },
  {
   "cell_type": "markdown",
   "id": "suitable-lightning",
   "metadata": {},
   "source": [
    "## Hashtaguerino hacker"
   ]
  },
  {
   "cell_type": "code",
   "execution_count": 1,
   "metadata": {},
   "outputs": [
    {
     "output_type": "stream",
     "name": "stdout",
     "text": [
      "Esto se va a ver bien?\n"
     ]
    }
   ],
   "source": [
    "print(\"Esto se va a ver bien?\")"
   ]
  },
  {
   "cell_type": "code",
   "execution_count": 2,
   "id": "rural-italic",
   "metadata": {},
   "outputs": [],
   "source": [
    "import pandas as pd"
   ]
  },
  {
   "cell_type": "code",
   "execution_count": null,
   "metadata": {},
   "outputs": [],
   "source": []
  }
 ],
 "metadata": {
  "kernelspec": {
   "display_name": "Python 3",
   "language": "python",
   "name": "python3"
  },
  "language_info": {
   "codemirror_mode": {
    "name": "ipython",
    "version": 3
   },
   "file_extension": ".py",
   "mimetype": "text/x-python",
   "name": "python",
   "nbconvert_exporter": "python",
   "pygments_lexer": "ipython3",
   "version": "3.7.3-final"
  }
 },
 "nbformat": 4,
 "nbformat_minor": 5
}