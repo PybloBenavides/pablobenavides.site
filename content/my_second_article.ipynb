{
 "cells": [
  {
   "cell_type": "code",
   "execution_count": 1,
   "id": "subject-merit",
   "metadata": {},
   "outputs": [],
   "source": [
    "import sys"
   ]
  },
  {
   "cell_type": "code",
   "execution_count": 2,
   "id": "alternative-orleans",
   "metadata": {},
   "outputs": [],
   "source": [
    "string = \"This is from a notebook\""
   ]
  },
  {
   "cell_type": "markdown",
   "id": "suitable-lightning",
   "metadata": {},
   "source": [
    "## Hashtaguerino hacker"
   ]
  },
  {
   "cell_type": "code",
   "execution_count": 1,
   "metadata": {},
   "outputs": [
    {
     "output_type": "stream",
     "name": "stdout",
     "text": [
      "Esto se va a ver bien?\n"
     ]
    }
   ],
   "source": [
    "print(\"Esto se va a ver bien?\")"
   ]
  },
  {
   "cell_type": "code",
   "execution_count": 2,
   "id": "rural-italic",
   "metadata": {},
   "outputs": [],
   "source": [
    "import pandas as pd"
   ]
  },
  {
   "cell_type": "code",
   "execution_count": 4,
   "metadata": {},
   "outputs": [],
   "source": [
    "a = pd.read_csv(r\"data\\family_tree\\arbol_granaino.csv\")"
   ]
  },
  {
   "cell_type": "code",
   "execution_count": 5,
   "metadata": {},
   "outputs": [
    {
     "output_type": "execute_result",
     "data": {
      "text/plain": [
       "                      NOMBRE                     PADRE                  MADRE  \\\n",
       "0         PEDRO DE MOCTEZUMA                 MOCTEZUMA    SEÑORA DE MOCTEZUMA   \n",
       "1        ISABEL DE MOCTEZUMA        PEDRO DE MOCTEZUMA              TEIXTALCO   \n",
       "2  JUAN DE ANDRADE MOCTEZUMA  Pedro Gallego de Andrade    ISABEL DE MOCTEZUMA   \n",
       "3     JUAN CANO DE MOCTEZUMA     Juan Cano de Saavedra    ISABEL DE MOCTEZUMA   \n",
       "4    DIEGO LUIS DE MOCTEZUMA        PEDRO DE MOCTEZUMA  CATALINA QUANJOHTCHIL   \n",
       "\n",
       "   AÑO DE NACIMIENTO  RAMA AÑO CON DATOS DE SU VIDA  \\\n",
       "0                NaN   0.0                      NaN   \n",
       "1             1510.0   0.0                      NaN   \n",
       "2                NaN   0.0                      NaN   \n",
       "3                NaN   0.0                      NaN   \n",
       "4                NaN   0.0                      NaN   \n",
       "\n",
       "                    DATOS EXTRA  \n",
       "0                           NaN  \n",
       "1                           NaN  \n",
       "2                           NaN  \n",
       "3                           NaN  \n",
       "4  1567 PASO A ESPAÑA Y GRANADA  "
      ],
      "text/html": "<div>\n<style scoped>\n    .dataframe tbody tr th:only-of-type {\n        vertical-align: middle;\n    }\n\n    .dataframe tbody tr th {\n        vertical-align: top;\n    }\n\n    .dataframe thead th {\n        text-align: right;\n    }\n</style>\n<table border=\"1\" class=\"dataframe\">\n  <thead>\n    <tr style=\"text-align: right;\">\n      <th></th>\n      <th>NOMBRE</th>\n      <th>PADRE</th>\n      <th>MADRE</th>\n      <th>AÑO DE NACIMIENTO</th>\n      <th>RAMA</th>\n      <th>AÑO CON DATOS DE SU VIDA</th>\n      <th>DATOS EXTRA</th>\n    </tr>\n  </thead>\n  <tbody>\n    <tr>\n      <th>0</th>\n      <td>PEDRO DE MOCTEZUMA</td>\n      <td>MOCTEZUMA</td>\n      <td>SEÑORA DE MOCTEZUMA</td>\n      <td>NaN</td>\n      <td>0.0</td>\n      <td>NaN</td>\n      <td>NaN</td>\n    </tr>\n    <tr>\n      <th>1</th>\n      <td>ISABEL DE MOCTEZUMA</td>\n      <td>PEDRO DE MOCTEZUMA</td>\n      <td>TEIXTALCO</td>\n      <td>1510.0</td>\n      <td>0.0</td>\n      <td>NaN</td>\n      <td>NaN</td>\n    </tr>\n    <tr>\n      <th>2</th>\n      <td>JUAN DE ANDRADE MOCTEZUMA</td>\n      <td>Pedro Gallego de Andrade</td>\n      <td>ISABEL DE MOCTEZUMA</td>\n      <td>NaN</td>\n      <td>0.0</td>\n      <td>NaN</td>\n      <td>NaN</td>\n    </tr>\n    <tr>\n      <th>3</th>\n      <td>JUAN CANO DE MOCTEZUMA</td>\n      <td>Juan Cano de Saavedra</td>\n      <td>ISABEL DE MOCTEZUMA</td>\n      <td>NaN</td>\n      <td>0.0</td>\n      <td>NaN</td>\n      <td>NaN</td>\n    </tr>\n    <tr>\n      <th>4</th>\n      <td>DIEGO LUIS DE MOCTEZUMA</td>\n      <td>PEDRO DE MOCTEZUMA</td>\n      <td>CATALINA QUANJOHTCHIL</td>\n      <td>NaN</td>\n      <td>0.0</td>\n      <td>NaN</td>\n      <td>1567 PASO A ESPAÑA Y GRANADA</td>\n    </tr>\n  </tbody>\n</table>\n</div>"
     },
     "metadata": {},
     "execution_count": 5
    }
   ],
   "source": [
    "a.head()"
   ]
  },
  {
   "cell_type": "code",
   "execution_count": 6,
   "metadata": {},
   "outputs": [],
   "source": [
    "sys.path.append(\"repos\")"
   ]
  },
  {
   "cell_type": "code",
   "execution_count": 7,
   "metadata": {},
   "outputs": [],
   "source": [
    "from family_members import member"
   ]
  },
  {
   "cell_type": "code",
   "execution_count": null,
   "metadata": {},
   "outputs": [],
   "source": []
  }
 ],
 "metadata": {
  "kernelspec": {
   "display_name": "Python 3",
   "language": "python",
   "name": "python3"
  },
  "language_info": {
   "codemirror_mode": {
    "name": "ipython",
    "version": 3
   },
   "file_extension": ".py",
   "mimetype": "text/x-python",
   "name": "python",
   "nbconvert_exporter": "python",
   "pygments_lexer": "ipython3",
   "version": "3.7.3-final"
  }
 },
 "nbformat": 4,
 "nbformat_minor": 5
}